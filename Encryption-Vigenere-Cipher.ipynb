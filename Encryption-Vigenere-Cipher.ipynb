{
  "cells": [
    {
      "cell_type": "markdown",
      "metadata": {
        "id": "6rp3IRFKJuZR"
      },
      "source": [
        "### **Criptografia de Vigenere**"
      ]
    },
    {
      "cell_type": "code",
      "execution_count": null,
      "metadata": {
        "id": "f7FCIVPQJjEY"
      },
      "outputs": [],
      "source": [
        "#Base do alfabeto\n",
        "base = ['a', 'b', 'c', 'd', 'e', 'f', 'g', 'h', 'i', 'j', 'k', 'l', 'm', 'n', 'o', 'p', 'q', 'r', 's', 't', 'u', 'v', 'w', 'x', 'y', 'z']\n",
        "\n",
        "#Função encriptar recebe um texto e uma chave\n",
        "def encrypt(text, key):\n",
        "    text_encrypt = ''  # Variável que armazenará o texto encriptado\n",
        "    i = 0  # Inicialização de uma variável que indica a posição atual no texto / reinicia quando o texto termina\n",
        "\n",
        "    for letter in text:\n",
        "        if letter == ' ':\n",
        "            # Se o caractere for um espaço em branco, adiciona diretamente ao texto cifrado\n",
        "            text_encrypt += ' '\n",
        "        else:\n",
        "            # Caso contrário, aplica a cifra de Vigenère normalmente\n",
        "            sum = base.index(letter) + base.index(key[i % len(key)])  # Soma os índices da letra do texto e da letra da chave\n",
        "            module = int(sum) % len(base)  # Calcula o módulo para garantir que o resultado esteja dentro dos limites do alfabeto\n",
        "            text_encrypt += base[module]  # Adiciona a letra cifrada ao texto encriptado\n",
        "            i += 1  # Incrementa a posição para continuar percorrendo o texto e a chave\n",
        "\n",
        "    return text_encrypt  # Retorna o texto encriptado"
      ]
    },
    {
      "cell_type": "code",
      "execution_count": null,
      "metadata": {
        "id": "FskAiV-3vwDO"
      },
      "outputs": [],
      "source": [
        "#Função decriptar recebe o texto encriptado e a chave usada para encriptar\n",
        "def decipher(text_encrypt, key):\n",
        "    text_decipher = ''  # Variável que armazenará o texto decriptado\n",
        "    i = 0  # Inicialização de uma variável que indica a posição atual no texto encriptado / reinicia quando o texto encriptado termina\n",
        "\n",
        "    for letter in text_encrypt:\n",
        "        if letter == ' ':\n",
        "            # Se o caractere for um espaço em branco, adiciona diretamente ao texto decifrado\n",
        "            text_decipher += ' '\n",
        "        else:\n",
        "            # Caso contrário, aplica a cifra de Vigenère inversa normalmente\n",
        "            sum = base.index(letter) - base.index(key[i % len(key)])  # Subtrai os índices da letra cifrada e da letra da chave\n",
        "            module = int(sum) % len(base)  # Calcula o módulo para garantir que o resultado esteja dentro dos limites do alfabeto\n",
        "            text_decipher += base[module]  # Adiciona a letra decifrada ao texto decriptado\n",
        "            i += 1  # Incrementa a posição para continuar percorrendo o texto encriptado e a chave\n",
        "\n",
        "    return text_decipher  # Retorna o texto decriptado"
      ]
    },
    {
      "cell_type": "code",
      "execution_count": null,
      "metadata": {
        "id": "_xhBLeCczLkS"
      },
      "outputs": [],
      "source": [
        "# Função para guardar as opções do menu\n",
        "def menu():\n",
        "    print(\"\\n**** Menu ****\")  # Imprime o cabeçalho do menu\n",
        "    print(\"[1] Criptografar Texto\")  # Opção para criptografar texto\n",
        "    print(\"[2] Descriptografar Texto\")  # Opção para descriptografar texto\n",
        "    print(\"[0] Sair\")  # Opção para sair do programa\n",
        "\n",
        "# Função Principal\n",
        "def main():\n",
        "    option = 1  # Inicializa a variável de opção para entrar no loop do menu\n",
        "\n",
        "    while option != 0:  # Continua executando até que o usuário escolha a opção 0 para sair\n",
        "        menu()  # Exibe o menu\n",
        "        option = int(input(\"\\nEntre com número da opção: \"))  # Solicita a entrada da opção do usuário como um número inteiro\n",
        "\n",
        "        if option == 1:\n",
        "            print(\"[1] Criptografar Texto\\n\")  # Exibe a opção selecionada\n",
        "            text = str(input(\"Digite a mensagem: \\n\")).lower()  # Solicita a entrada da mensagem para criptografar\n",
        "            key = str(input(\"\\nDigite a chave de criptografia:\\n\")).lower()  # Solicita a entrada da chave de criptografia\n",
        "            encrypted = encrypt(text, key)  # Chama a função de criptografia\n",
        "            print(\"Texto encriptado:\\n\", encrypted)  # Exibe o texto criptografado\n",
        "\n",
        "        elif option == 2:\n",
        "            print(\"[2] Descriptografar Texto\\n\")  # Exibe a opção selecionada\n",
        "            text = str(input(\"Digite a mensagem criptografada: \\n\")).lower()  # Solicita a entrada da mensagem criptografada para descriptografar\n",
        "            key = str(input(\"\\nDigite a chave de criptografia: \\n\")).lower()  # Solicita a entrada da chave de criptografia\n",
        "            txt_decipher = decipher(text, key)  # Chama a função de descriptografia\n",
        "            print(\"O texto original é:\", txt_decipher)  # Exibe o texto original descriptografado\n",
        "\n",
        "        elif option == 0:\n",
        "            print(\"Programa encerrado.\")  # Exibe mensagem de encerramento do programa\n",
        "\n",
        "        else:\n",
        "            print(\"Opção inválida. Tente novamente.\")  # Informa ao usuário que a opção escolhida é inválida e solicita uma nova entrada\n",
        "            \n",
        "main()  # Chama a função principal para iniciar o programa"
      ]
    }
  ],
  "metadata": {
    "colab": {
      "provenance": []
    },
    "kernelspec": {
      "display_name": "Python 3",
      "name": "python3"
    },
    "language_info": {
      "name": "python"
    }
  },
  "nbformat": 4,
  "nbformat_minor": 0
}
